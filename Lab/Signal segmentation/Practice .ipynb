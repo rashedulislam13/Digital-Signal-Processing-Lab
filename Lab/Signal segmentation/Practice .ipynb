{
 "cells": [
  {
   "cell_type": "markdown",
   "id": "9b59c0d4",
   "metadata": {},
   "source": [
    "# Read last 5 rows"
   ]
  },
  {
   "cell_type": "code",
   "execution_count": 61,
   "id": "6a5245f1",
   "metadata": {},
   "outputs": [
    {
     "name": "stdout",
     "output_type": "stream",
     "text": [
      "    Unnamed: 0   X1   X2   X3   X4   X5   X6   X7   X8   X9  ...  X170  X171  \\\n",
      "0   X21.V1.791  135  190  229  223  192  125   55   -9  -33  ...   -17   -15   \n",
      "1   X15.V1.924  386  382  356  331  320  315  307  272  244  ...   164   150   \n",
      "2      X8.V1.1  -32  -39  -47  -37  -32  -36  -57  -73  -85  ...    57    64   \n",
      "3    X16.V1.60 -105 -101  -96  -92  -89  -95 -102 -100  -87  ...   -82   -81   \n",
      "4    X20.V1.54   -9  -65  -98 -102  -78  -48  -16    0  -21  ...     4     2   \n",
      "5    X14.V1.56   55   28   18   16   16   19   25   40   52  ...   -12   -31   \n",
      "6    X3.V1.191  -55   -9   52  111  135  129  103   72   37  ...  -125   -99   \n",
      "7   X11.V1.273    1   -2   -8  -11  -12  -17  -15  -16  -18  ...   -79   -91   \n",
      "8   X19.V1.874 -278 -246 -215 -191 -177 -167 -157 -139 -118  ...  -400  -379   \n",
      "9    X3.V1.491    8   15   13    3   -6   -8   -5    4   25  ...    49    31   \n",
      "10     X3.V1.6   -5   15   28   28    9  -29  -41  -19   14  ...   -38    -4   \n",
      "11  X21.V1.724 -167 -230 -280 -315 -338 -369 -405 -392 -298  ...   423   434   \n",
      "12   X7.V1.162   92   49    0  -32  -51  -65  -37  -19  -25  ...   -56   -41   \n",
      "13   X1.V1.211   15   12    0  -17  -28  -31  -39  -51  -44  ...   -88  -102   \n",
      "14   X1.V1.615  -24  -15   -5   -1    4    3    6   10   11  ...    32    35   \n",
      "\n",
      "    X172  X173  X174  X175  X176  X177  X178  y  \n",
      "0    -31   -77  -103  -127  -116   -83   -51  4  \n",
      "1    146   152   157   156   154   143   129  1  \n",
      "2     48    19   -12   -30   -35   -35   -36  5  \n",
      "3    -80   -77   -85   -77   -72   -69   -65  5  \n",
      "4    -12   -32   -41   -65   -83   -89   -73  5  \n",
      "5    -42   -54   -60   -64   -60   -56   -55  5  \n",
      "6    -79   -62   -41   -26    11    67   128  4  \n",
      "7    -97   -88   -76   -72   -66   -57   -39  2  \n",
      "8   -336  -281  -226  -174  -125   -79   -40  1  \n",
      "9     11    -5   -17   -19   -15   -15   -11  4  \n",
      "10    25    16   -16   -74  -101   -89   -49  5  \n",
      "11   416   374   319   268   215   165   103  1  \n",
      "12   -40   -43   -32   -13    -1    -7   -44  3  \n",
      "13   -97   -77   -45   -19    13    44    68  4  \n",
      "14    36    34    32    26    23    18    20  2  \n",
      "\n",
      "[15 rows x 180 columns]\n"
     ]
    }
   ],
   "source": [
    "import pandas\n",
    "df=pd.read_csv('data.csv')\n",
    "df\n",
    "print(df.head(15))"
   ]
  },
  {
   "cell_type": "code",
   "execution_count": 17,
   "id": "e4a91f99",
   "metadata": {},
   "outputs": [
    {
     "name": "stdout",
     "output_type": "stream",
     "text": [
      "       Unnamed: 0   X1   X2   X3   X4   X5   X6   X7   X8   X9  ...  X170  \\\n",
      "11485    X7.V1.81  -27   -8  -22  -48  -75  -99 -109 -105  -99  ...   -43   \n",
      "11486  X15.V1.601    7  -28  -46  -45  -31    2   17   12   -2  ...    39   \n",
      "11487  X17.V1.874   98  107  121  143  166  184  185  174  153  ...   -31   \n",
      "11488  X20.V1.494  267  409  450  416  334  248  173  113   67  ...   413   \n",
      "11489    X7.V1.51   90   83   69   41   31   40   58   75   82  ...    83   \n",
      "11490  X14.V1.404  -22  -64 -121 -201 -292 -336 -398 -527 -773  ...   183   \n",
      "11491  X20.V1.883  102  137  158  158  128   92   60   56   63  ...    76   \n",
      "11492  X13.V1.624  -27  -53  -84 -104 -131 -171 -199 -203 -177  ...  -127   \n",
      "11493  X23.V1.714 -136 -137 -138 -135 -130 -123 -116 -118 -119  ...    -1   \n",
      "11494  X21.V1.762  -39  -16  -13  -14  -68  -84  -92  -61  -89  ...  -102   \n",
      "11495  X22.V1.114  -22  -22  -23  -26  -36  -42  -45  -42  -45  ...    15   \n",
      "11496  X19.V1.354  -47  -11   28   77  141  211  246  240  193  ...   -65   \n",
      "11497    X8.V1.28   14    6  -13  -16   10   26   27   -9    4  ...   -65   \n",
      "11498  X10.V1.932  -40  -25   -9  -12   -2   12    7   19   22  ...   121   \n",
      "11499  X16.V1.210   29   41   57   72   74   62   54   43   31  ...   -59   \n",
      "\n",
      "       X171  X172  X173  X174  X175  X176  X177  X178  y  \n",
      "11485   -75   -70   -25    19    34     5   -27   -32  5  \n",
      "11486    72    97   111    77     1   -53   -80  -108  4  \n",
      "11487    11    48    77    95   107   111   110   119  1  \n",
      "11488   288   173    76     7   -27   -46   -58   -67  1  \n",
      "11489    77    52    19   -20   -33   -18     9    30  5  \n",
      "11490  -152  -499  -577  -415  -223   -88   -18   -61  1  \n",
      "11491    64    59    44    39    23    11     4     2  2  \n",
      "11492  -114   -99   -79   -56   -28   -14    -8   -12  1  \n",
      "11493     3     5     8    13    16    24    34    42  2  \n",
      "11494   -75   -63   -44   -66   -49   -34   -31   -52  3  \n",
      "11495    16    12     5    -1   -18   -37   -47   -48  2  \n",
      "11496   -33    -7    14    27    48    77   117   170  1  \n",
      "11497   -48   -61   -62   -67   -30    -2    -1    -8  5  \n",
      "11498   135   148   143   116    86    68    59    55  3  \n",
      "11499   -25    -4     2     5     4    -2     2    20  4  \n",
      "\n",
      "[15 rows x 180 columns]\n"
     ]
    }
   ],
   "source": [
    "#read last 5 rows\n",
    "print(df.tail(15))"
   ]
  },
  {
   "cell_type": "code",
   "execution_count": 18,
   "id": "5e0d29e1",
   "metadata": {},
   "outputs": [
    {
     "name": "stdout",
     "output_type": "stream",
     "text": [
      "<class 'pandas.core.frame.DataFrame'>\n",
      "RangeIndex: 11500 entries, 0 to 11499\n",
      "Columns: 180 entries, Unnamed: 0 to y\n",
      "dtypes: int64(179), object(1)\n",
      "memory usage: 15.8+ MB\n",
      "None\n"
     ]
    }
   ],
   "source": [
    "#information of data\n",
    "print(df.info()) "
   ]
  },
  {
   "cell_type": "code",
   "execution_count": null,
   "id": "b2d273e2",
   "metadata": {},
   "outputs": [],
   "source": [
    "#Return a new Data Frame with no empty cells:\n",
    "\n",
    "import pandas as pd\n",
    "\n",
    "df = pd.read_csv('data.csv')\n",
    "\n",
    "new_df = df.dropna()\n",
    "\n",
    "print(new_df.to_string())"
   ]
  },
  {
   "cell_type": "code",
   "execution_count": 21,
   "id": "407924c2",
   "metadata": {},
   "outputs": [
    {
     "name": "stderr",
     "output_type": "stream",
     "text": [
      "IOPub data rate exceeded.\n",
      "The notebook server will temporarily stop sending output\n",
      "to the client in order to avoid crashing it.\n",
      "To change this limit, set the config variable\n",
      "`--NotebookApp.iopub_data_rate_limit`.\n",
      "\n",
      "Current values:\n",
      "NotebookApp.iopub_data_rate_limit=1000000.0 (bytes/sec)\n",
      "NotebookApp.rate_limit_window=3.0 (secs)\n",
      "\n"
     ]
    }
   ],
   "source": [
    "#Remove all rows with NULL values:\n",
    "\n",
    "import pandas as pd\n",
    "\n",
    "df = pd.read_csv('data.csv')\n",
    "\n",
    "df.dropna(inplace = True)\n",
    "\n",
    "print(df.to_string())"
   ]
  },
  {
   "cell_type": "code",
   "execution_count": 22,
   "id": "f4242f47",
   "metadata": {},
   "outputs": [],
   "source": [
    "#Replace NULL values with the number 130:\n",
    "\n",
    "import pandas as pd\n",
    "\n",
    "df = pd.read_csv('data.csv')\n",
    "\n",
    "df.fillna(130, inplace = True)"
   ]
  },
  {
   "cell_type": "code",
   "execution_count": 23,
   "id": "de7f1f18",
   "metadata": {},
   "outputs": [
    {
     "name": "stdout",
     "output_type": "stream",
     "text": [
      "0        False\n",
      "1        False\n",
      "2        False\n",
      "3        False\n",
      "4        False\n",
      "         ...  \n",
      "11495    False\n",
      "11496    False\n",
      "11497    False\n",
      "11498    False\n",
      "11499    False\n",
      "Length: 11500, dtype: bool\n"
     ]
    }
   ],
   "source": [
    "#Returns True for every row that is a duplicate, othwerwise False:\n",
    "import pandas as pd\n",
    "\n",
    "df = pd.read_csv('data.csv')\n",
    "\n",
    "print(df.duplicated())\n"
   ]
  },
  {
   "cell_type": "code",
   "execution_count": 24,
   "id": "c95d7084",
   "metadata": {},
   "outputs": [
    {
     "name": "stdout",
     "output_type": "stream",
     "text": [
      "            X1        X2        X3        X4        X5        X6        X7  \\\n",
      "X1    1.000000  0.947729  0.808192  0.608109  0.393674  0.218226  0.103693   \n",
      "X2    0.947729  1.000000  0.944623  0.790403  0.576579  0.369803  0.211793   \n",
      "X3    0.808192  0.944623  1.000000  0.939522  0.778648  0.573874  0.382493   \n",
      "X4    0.608109  0.790403  0.939522  1.000000  0.938636  0.784954  0.590497   \n",
      "X5    0.393674  0.576579  0.778648  0.938636  1.000000  0.941267  0.792304   \n",
      "...        ...       ...       ...       ...       ...       ...       ...   \n",
      "X175  0.036144  0.024290  0.015536  0.016992  0.021924  0.022444  0.014869   \n",
      "X176  0.030581  0.023906  0.016982  0.016911  0.018869  0.020977  0.017016   \n",
      "X177  0.024562  0.021962  0.017070  0.014671  0.013607  0.017383  0.018572   \n",
      "X178  0.020022  0.018059  0.012419  0.006226  0.001298  0.004240  0.008325   \n",
      "y     0.022375  0.019154  0.013469  0.004763 -0.006597 -0.018256 -0.026422   \n",
      "\n",
      "            X8        X9       X10  ...      X170      X171      X172  \\\n",
      "X1    0.044483  0.027923  0.032221  ...  0.027263  0.045401  0.051630   \n",
      "X2    0.109478  0.060218  0.043565  ...  0.012602  0.025937  0.031606   \n",
      "X3    0.231084  0.133249  0.080003  ...  0.004575  0.011752  0.016424   \n",
      "X4    0.399855  0.250052  0.150284  ... -0.001028  0.000632  0.006617   \n",
      "X5    0.596424  0.410651  0.265112  ...  0.004861  0.000918  0.006488   \n",
      "...        ...       ...       ...  ...       ...       ...       ...   \n",
      "X175 -0.000510 -0.018552 -0.036517  ...  0.195640  0.366428  0.573335   \n",
      "X176  0.005851 -0.009052 -0.025522  ...  0.084966  0.195891  0.359400   \n",
      "X177  0.012590  0.001943 -0.011809  ...  0.022042  0.071946  0.175322   \n",
      "X178  0.008032  0.004823 -0.001332  ... -0.004094  0.001945  0.049854   \n",
      "y    -0.027478 -0.029452 -0.034459  ...  0.002707  0.012589  0.022893   \n",
      "\n",
      "          X173      X174      X175      X176      X177      X178         y  \n",
      "X1    0.049604  0.042967  0.036144  0.030581  0.024562  0.020022  0.022375  \n",
      "X2    0.030452  0.025975  0.024290  0.023906  0.021962  0.018059  0.019154  \n",
      "X3    0.017070  0.014837  0.015536  0.016982  0.017070  0.012419  0.013469  \n",
      "X4    0.011882  0.014496  0.016992  0.016911  0.014671  0.006226  0.004763  \n",
      "X5    0.013946  0.019146  0.021924  0.018869  0.013607  0.001298 -0.006597  \n",
      "...        ...       ...       ...       ...       ...       ...       ...  \n",
      "X175  0.782018  0.936986  1.000000  0.933893  0.759069  0.533265  0.028425  \n",
      "X176  0.563321  0.767300  0.933893  1.000000  0.931826  0.759381  0.027259  \n",
      "X177  0.337020  0.537493  0.759069  0.931826  1.000000  0.934330  0.026156  \n",
      "X178  0.155044  0.315385  0.533265  0.759381  0.934330  1.000000  0.025168  \n",
      "y     0.029172  0.028563  0.028425  0.027259  0.026156  0.025168  1.000000  \n",
      "\n",
      "[179 rows x 179 columns]\n"
     ]
    }
   ],
   "source": [
    "#Show the relationship between the columns:\n",
    "import pandas as pd\n",
    "\n",
    "df = pd.read_csv('data.csv')\n",
    "\n",
    "print(df.corr())"
   ]
  },
  {
   "cell_type": "code",
   "execution_count": 26,
   "id": "87e11d10",
   "metadata": {},
   "outputs": [
    {
     "name": "stdout",
     "output_type": "stream",
     "text": [
      "int32\n"
     ]
    }
   ],
   "source": [
    "#Get the data type of an array object:\n",
    "\n",
    "import numpy as np\n",
    "\n",
    "arr = np.array([1, 2, 3, 4])\n",
    "\n",
    "print(arr.dtype)"
   ]
  },
  {
   "cell_type": "code",
   "execution_count": 27,
   "id": "d39dda69",
   "metadata": {},
   "outputs": [
    {
     "name": "stdout",
     "output_type": "stream",
     "text": [
      "(2, 4)\n"
     ]
    }
   ],
   "source": [
    "#Print the shape of a 2-D array:\n",
    "import numpy as np\n",
    "\n",
    "arr = np.array([[1, 2, 3, 4], [5, 6, 7, 8]])\n",
    "\n",
    "print(arr.shape)"
   ]
  },
  {
   "cell_type": "code",
   "execution_count": 28,
   "id": "e886f3c8",
   "metadata": {},
   "outputs": [
    {
     "name": "stdout",
     "output_type": "stream",
     "text": [
      "[[ 1  2  3]\n",
      " [ 4  5  6]\n",
      " [ 7  8  9]\n",
      " [10 11 12]]\n"
     ]
    }
   ],
   "source": [
    "#Convert the following 1-D array with 12 elements into a 2-D array.\n",
    "\n",
    "#The outermost dimension will have 4 arrays, each with 3 elements:\n",
    "\n",
    "import numpy as np\n",
    "\n",
    "arr = np.array([1, 2, 3, 4, 5, 6, 7, 8, 9, 10, 11, 12])\n",
    "\n",
    "newarr = arr.reshape(4, 3)\n",
    "\n",
    "print(newarr)"
   ]
  },
  {
   "cell_type": "code",
   "execution_count": 29,
   "id": "38fd17a3",
   "metadata": {},
   "outputs": [
    {
     "name": "stdout",
     "output_type": "stream",
     "text": [
      "[[[ 1  2]\n",
      "  [ 3  4]\n",
      "  [ 5  6]]\n",
      "\n",
      " [[ 7  8]\n",
      "  [ 9 10]\n",
      "  [11 12]]]\n"
     ]
    }
   ],
   "source": [
    "#Convert the following 1-D array with 12 elements into a 3-D array.\n",
    "\n",
    "#The outermost dimension will have 2 arrays that contains 3 arrays, each with 2 elements:\n",
    "\n",
    "import numpy as np\n",
    "\n",
    "arr = np.array([1, 2, 3, 4, 5, 6, 7, 8, 9, 10, 11, 12])\n",
    "\n",
    "newarr = arr.reshape(2, 3, 2)\n",
    "\n",
    "print(newarr)"
   ]
  },
  {
   "cell_type": "code",
   "execution_count": 30,
   "id": "7778af57",
   "metadata": {},
   "outputs": [
    {
     "name": "stdout",
     "output_type": "stream",
     "text": [
      "[[[1 2]\n",
      "  [3 4]]\n",
      "\n",
      " [[5 6]\n",
      "  [7 8]]]\n"
     ]
    }
   ],
   "source": [
    "#Convert 1D array with 8 elements to 3D array with 2x2 elements:\n",
    "\n",
    "import numpy as np\n",
    "\n",
    "arr = np.array([1, 2, 3, 4, 5, 6, 7, 8])\n",
    "\n",
    "newarr = arr.reshape(2, 2, -1)\n",
    "\n",
    "print(newarr)"
   ]
  },
  {
   "cell_type": "code",
   "execution_count": 31,
   "id": "360205f6",
   "metadata": {},
   "outputs": [
    {
     "name": "stdout",
     "output_type": "stream",
     "text": [
      "[1 2 3 4 5 6]\n"
     ]
    }
   ],
   "source": [
    "#Convert the array into a 1D array:\n",
    "\n",
    "import numpy as np\n",
    "\n",
    "arr = np.array([[1, 2, 3], [4, 5, 6]])\n",
    "\n",
    "newarr = arr.reshape(-1)\n",
    "\n",
    "print(newarr)"
   ]
  },
  {
   "cell_type": "code",
   "execution_count": 32,
   "id": "310f6d8c",
   "metadata": {},
   "outputs": [
    {
     "name": "stdout",
     "output_type": "stream",
     "text": [
      "[1 2 3 4 5 6]\n"
     ]
    }
   ],
   "source": [
    "#Join two arrays\n",
    "\n",
    "import numpy as np\n",
    "\n",
    "arr1 = np.array([1, 2, 3])\n",
    "\n",
    "arr2 = np.array([4, 5, 6])\n",
    "\n",
    "arr = np.concatenate((arr1, arr2))\n",
    "\n",
    "print(arr)"
   ]
  },
  {
   "cell_type": "code",
   "execution_count": 33,
   "id": "1a56c7a5",
   "metadata": {},
   "outputs": [
    {
     "name": "stdout",
     "output_type": "stream",
     "text": [
      "[[1 2 5 6]\n",
      " [3 4 7 8]]\n"
     ]
    }
   ],
   "source": [
    "#Join two 2-D arrays along rows (axis=1):\n",
    "\n",
    "import numpy as np\n",
    "\n",
    "arr1 = np.array([[1, 2], [3, 4]])\n",
    "\n",
    "arr2 = np.array([[5, 6], [7, 8]])\n",
    "\n",
    "arr = np.concatenate((arr1, arr2), axis=1)\n",
    "\n",
    "print(arr)"
   ]
  },
  {
   "cell_type": "code",
   "execution_count": 35,
   "id": "232e21d6",
   "metadata": {},
   "outputs": [
    {
     "name": "stdout",
     "output_type": "stream",
     "text": [
      "[array([1, 2]), array([3, 4]), array([5, 6])]\n",
      "[array([[1, 2],\n",
      "       [3, 4]]), array([[5, 6],\n",
      "       [7, 8]]), array([[ 9, 10],\n",
      "       [11, 12]])]\n"
     ]
    }
   ],
   "source": [
    "#Split the array in 3 parts:\n",
    "\n",
    "import numpy as np\n",
    "\n",
    "arr = np.array([1, 2, 3, 4, 5, 6])\n",
    "\n",
    "newarr = np.array_split(arr, 3)\n",
    "\n",
    "print(newarr)\n",
    "\n",
    "\n",
    "\n",
    "arr = np.array([[1, 2], [3, 4], [5, 6], [7, 8], [9, 10], [11, 12]])\n",
    "\n",
    "newarr = np.array_split(arr, 3)\n",
    "\n",
    "print(newarr)"
   ]
  },
  {
   "cell_type": "code",
   "execution_count": 36,
   "id": "fd748947",
   "metadata": {},
   "outputs": [
    {
     "name": "stdout",
     "output_type": "stream",
     "text": [
      "[array([[1, 2, 3],\n",
      "       [4, 5, 6]]), array([[ 7,  8,  9],\n",
      "       [10, 11, 12]]), array([[13, 14, 15],\n",
      "       [16, 17, 18]])]\n"
     ]
    }
   ],
   "source": [
    "#Split the 2-D array into three 2-D arrays.\n",
    "\n",
    "import numpy as np\n",
    "\n",
    "arr = np.array([[1, 2, 3], [4, 5, 6], [7, 8, 9], [10, 11, 12], [13, 14, 15], [16, 17, 18]])\n",
    "\n",
    "newarr = np.array_split(arr, 3)\n",
    "\n",
    "print(newarr)"
   ]
  },
  {
   "cell_type": "code",
   "execution_count": 37,
   "id": "765f173b",
   "metadata": {},
   "outputs": [
    {
     "name": "stdout",
     "output_type": "stream",
     "text": [
      "[0 1 2 3]\n"
     ]
    }
   ],
   "source": [
    "#Sort the array:\n",
    "\n",
    "import numpy as np\n",
    "\n",
    "arr = np.array([3, 2, 0, 1])\n",
    "\n",
    "print(np.sort(arr))"
   ]
  },
  {
   "cell_type": "code",
   "execution_count": 38,
   "id": "f3caf742",
   "metadata": {},
   "outputs": [
    {
     "name": "stdout",
     "output_type": "stream",
     "text": [
      "[False, False, True, True]\n",
      "[43 44]\n"
     ]
    }
   ],
   "source": [
    "#Create a filter array that will return only values higher than 42:\n",
    "\n",
    "import numpy as np\n",
    "\n",
    "arr = np.array([41, 42, 43, 44])\n",
    "\n",
    "# Create an empty list\n",
    "filter_arr = []\n",
    "\n",
    "# go through each element in arr\n",
    "for element in arr:\n",
    "  # if the element is higher than 42, set the value to True, otherwise False:\n",
    "  if element > 42:\n",
    "    filter_arr.append(True)\n",
    "  else:\n",
    "    filter_arr.append(False)\n",
    "\n",
    "newarr = arr[filter_arr]\n",
    "\n",
    "print(filter_arr)\n",
    "print(newarr)"
   ]
  },
  {
   "cell_type": "code",
   "execution_count": 39,
   "id": "b4083552",
   "metadata": {},
   "outputs": [
    {
     "name": "stdout",
     "output_type": "stream",
     "text": [
      "[False, True, False, True, False, True, False]\n",
      "[2 4 6]\n"
     ]
    }
   ],
   "source": [
    "#Create a filter array that will return only even elements from the original array:\n",
    "\n",
    "import numpy as np\n",
    "\n",
    "arr = np.array([1, 2, 3, 4, 5, 6, 7])\n",
    "\n",
    "# Create an empty list\n",
    "filter_arr = []\n",
    "\n",
    "# go through each element in arr\n",
    "for element in arr:\n",
    "  # if the element is completely divisble by 2, set the value to True, otherwise False\n",
    "  if element % 2 == 0:\n",
    "    filter_arr.append(True)\n",
    "  else:\n",
    "    filter_arr.append(False)\n",
    "\n",
    "newarr = arr[filter_arr]\n",
    "\n",
    "print(filter_arr)\n",
    "print(newarr)"
   ]
  },
  {
   "cell_type": "markdown",
   "id": "856a3265",
   "metadata": {},
   "source": [
    "# Create dataset using dataframe method of pandas and then save it to “Customers.csv” "
   ]
  },
  {
   "cell_type": "code",
   "execution_count": 1,
   "id": "30bf291f",
   "metadata": {},
   "outputs": [
    {
     "name": "stdout",
     "output_type": "stream",
     "text": [
      "   CustomerID  Gender  Age  Annual Income(k$)  Spending Score\n",
      "0           1    Male   20                 10              30\n",
      "1           2  Female   21                 20              50\n",
      "2           3  Female   19                 30              48\n",
      "3           4    Male   18                 10              84\n",
      "4           5    Male   25                 25              90\n",
      "5           6  Female   26                 60              65\n",
      "6           7    Male   32                 70              32\n",
      "7           8    Male   41                 15              46\n",
      "8           9  Female   20                 21              12\n",
      "9          10    Male   19                 22              56\n"
     ]
    }
   ],
   "source": [
    "import pandas as pd\n",
    " \n",
    "# initialise data dictionary.\n",
    "data_dict = {'CustomerID': [1, 2, 3, 4, 5, 6, 7, 8, 9, 10],\n",
    "              \n",
    "             'Gender': [\"Male\", \"Female\", \"Female\", \"Male\",\n",
    "                        \"Male\", \"Female\", \"Male\", \"Male\",\n",
    "                        \"Female\", \"Male\"],\n",
    "              \n",
    "             'Age': [20, 21, 19, 18, 25, 26, 32, 41, 20, 19],\n",
    "              \n",
    "             'Annual Income(k$)': [10, 20, 30, 10, 25, 60, 70,\n",
    "                                   15, 21, 22],\n",
    "              \n",
    "             'Spending Score': [30, 50, 48, 84, 90, 65, 32, 46,\n",
    "                                12, 56]}\n",
    " \n",
    "# Create DataFrame\n",
    "data = pd.DataFrame(data_dict)\n",
    " \n",
    "# Write to CSV file\n",
    "data.to_csv(\"Customers.csv\")\n",
    " \n",
    "# Print the output.\n",
    "print(data)"
   ]
  },
  {
   "cell_type": "markdown",
   "id": "bfcec2d7",
   "metadata": {},
   "source": [
    "# Creating multiple  CSV files from the existing CSV file\n",
    "Method 1: Splitting based on rows"
   ]
  },
  {
   "cell_type": "code",
   "execution_count": 9,
   "id": "925fed9e",
   "metadata": {},
   "outputs": [
    {
     "name": "stdout",
     "output_type": "stream",
     "text": [
      "   Unnamed: 0  CustomerID  Gender  Age  Annual Income(k$)  Spending Score\n",
      "0           0           1    Male   20                 10              30\n",
      "1           1           2  Female   21                 20              50\n",
      "2           2           3  Female   19                 30              48\n",
      "3           3           4    Male   18                 10              84\n",
      "4           4           5    Male   25                 25              90\n",
      "   Unnamed: 0  CustomerID  Gender  Age  Annual Income(k$)  Spending Score\n",
      "0           5           6  Female   26                 60              65\n",
      "1           6           7    Male   32                 70              32\n",
      "2           7           8    Male   41                 15              46\n",
      "3           8           9  Female   20                 21              12\n",
      "4           9          10    Male   19                 22              56\n"
     ]
    }
   ],
   "source": [
    "import pandas as pd\n",
    "\n",
    "# read DataFrame\n",
    "data = pd.read_csv(\"Customers.csv\")\n",
    "\n",
    "# no of csv files with row size\n",
    "k = 2\n",
    "size =5 \n",
    "\n",
    "for i in range(k):\n",
    "\tdf = data[size*i:size*(i+1)]\n",
    "\tdf.to_csv(f'Customers_{i+1}.csv', index=False)\n",
    "\n",
    "df_1 = pd.read_csv(\"Customers_1.csv\")\n",
    "print(df_1)\n",
    "\n",
    "df_2 = pd.read_csv(\"Customers_2.csv\")\n",
    "print(df_2)\n"
   ]
  },
  {
   "cell_type": "markdown",
   "id": "8b8c9e09",
   "metadata": {},
   "source": [
    "# Method 2: Splitting based on columns"
   ]
  },
  {
   "cell_type": "code",
   "execution_count": 10,
   "id": "e7144c75",
   "metadata": {},
   "outputs": [
    {
     "name": "stdout",
     "output_type": "stream",
     "text": [
      "   Unnamed: 0  CustomerID Gender  Age  Annual Income(k$)  Spending Score\n",
      "0           0           1   Male   20                 10              30\n",
      "1           3           4   Male   18                 10              84\n",
      "2           4           5   Male   25                 25              90\n",
      "3           6           7   Male   32                 70              32\n",
      "4           7           8   Male   41                 15              46\n",
      "5           9          10   Male   19                 22              56\n",
      "   Unnamed: 0  CustomerID  Gender  Age  Annual Income(k$)  Spending Score\n",
      "0           1           2  Female   21                 20              50\n",
      "1           2           3  Female   19                 30              48\n",
      "2           5           6  Female   26                 60              65\n",
      "3           8           9  Female   20                 21              12\n"
     ]
    }
   ],
   "source": [
    "import pandas as pd\n",
    "\n",
    "# read DataFrame\n",
    "data = pd.read_csv(\"Customers.csv\")\n",
    "\n",
    "for (gender), group in data.groupby(['Gender']):\n",
    "\tgroup.to_csv(f'{gender}.csv', index=False)\n",
    "\n",
    "print(pd.read_csv(\"Male.csv\"))\n",
    "print(pd.read_csv(\"Female.csv\"))\n"
   ]
  },
  {
   "cell_type": "markdown",
   "id": "eaf01c36",
   "metadata": {},
   "source": [
    "# Method 3: Splitting based both on Rows and Columns "
   ]
  },
  {
   "cell_type": "code",
   "execution_count": 15,
   "id": "a1f6dd8e",
   "metadata": {},
   "outputs": [
    {
     "name": "stdout",
     "output_type": "stream",
     "text": [
      "   Age\n",
      "0   20\n",
      "1   18\n",
      "2   25\n",
      "3   32\n",
      "4   41\n",
      "5   19\n",
      "   Age\n",
      "0   21\n",
      "1   19\n",
      "2   26\n",
      "3   20\n"
     ]
    }
   ],
   "source": [
    "for (gender), group in data['Age'].groupby(data['Gender']):\n",
    "\tgroup.to_csv(f'{gender}Score.csv', index=False)\n",
    "\t\n",
    "print(pd.read_csv(\"MaleScore.csv\"))\n",
    "print(pd.read_csv(\"FemaleScore.csv\"))\n"
   ]
  },
  {
   "cell_type": "markdown",
   "id": "c05c1d2a",
   "metadata": {},
   "source": [
    "# Reading specific columns of a CSV file using Pandas"
   ]
  },
  {
   "cell_type": "code",
   "execution_count": 17,
   "id": "4f3f4037",
   "metadata": {},
   "outputs": [
    {
     "name": "stdout",
     "output_type": "stream",
     "text": [
      "   Gender  Age  Annual Income(k$)\n",
      "0    Male   20                 10\n",
      "1  Female   21                 20\n",
      "2  Female   19                 30\n",
      "3    Male   18                 10\n",
      "4    Male   25                 25\n",
      "5  Female   26                 60\n",
      "6    Male   32                 70\n",
      "7    Male   41                 15\n",
      "8  Female   20                 21\n",
      "9    Male   19                 22\n"
     ]
    }
   ],
   "source": [
    "# importing the module\n",
    "import pandas as pd\n",
    "\n",
    "# read specific columns of csv file using Pandas\n",
    "df = pd.read_csv(\"Customers.csv\", usecols = ['Gender','Age','Annual Income(k$)'])\n",
    "print(df)\n"
   ]
  },
  {
   "cell_type": "markdown",
   "id": "864745d5",
   "metadata": {},
   "source": [
    "# Delete a column from existing csv file "
   ]
  },
  {
   "cell_type": "code",
   "execution_count": 40,
   "id": "94891453",
   "metadata": {},
   "outputs": [
    {
     "name": "stdout",
     "output_type": "stream",
     "text": [
      "Original 'Customers.csv' CSV Data: \n",
      "\n",
      "    Unnamed: 0  CustomerID  Gender   Age  Annual Income(k$)  Spending Score\n",
      "0            0         1.0    Male  20.0               10.0            30.0\n",
      "1            1         2.0  Female  21.0               20.0            50.0\n",
      "2            2         3.0  Female  19.0               30.0            48.0\n",
      "3            3         4.0    Male  18.0               10.0            84.0\n",
      "4            4         5.0    Male  25.0               25.0            90.0\n",
      "5            5         6.0  Female  26.0               60.0            65.0\n",
      "6            6         7.0    Male  32.0               70.0            32.0\n",
      "7            7         8.0    Male  41.0               15.0            46.0\n",
      "8            8         9.0  Female  20.0               21.0            12.0\n",
      "9            9        10.0    Male  19.0               22.0            56.0\n",
      "10          50         NaN     NaN   NaN                NaN             NaN\n",
      "11          63         NaN     NaN   NaN                NaN             NaN\n",
      "12          15         NaN     NaN   NaN                NaN             NaN\n",
      "13          56         NaN     NaN   NaN                NaN             NaN\n",
      "14          65         NaN     NaN   NaN                NaN             NaN\n",
      "15          56         NaN     NaN   NaN                NaN             NaN\n",
      "16           6         NaN     NaN   NaN                NaN             NaN\n",
      "17           6         NaN     NaN   NaN                NaN             NaN\n",
      "18          56         NaN     NaN   NaN                NaN             NaN\n",
      "19           3         NaN     NaN   NaN                NaN             NaN\n",
      "20          50         NaN     NaN   NaN                NaN             NaN\n",
      "21          63         NaN     NaN   NaN                NaN             NaN\n",
      "22          15         NaN     NaN   NaN                NaN             NaN\n",
      "23          56         NaN     NaN   NaN                NaN             NaN\n",
      "24          65         NaN     NaN   NaN                NaN             NaN\n",
      "25          56         NaN     NaN   NaN                NaN             NaN\n",
      "26           6         NaN     NaN   NaN                NaN             NaN\n",
      "27           6         NaN     NaN   NaN                NaN             NaN\n",
      "28          56         NaN     NaN   NaN                NaN             NaN\n",
      "29           3         NaN     NaN   NaN                NaN             NaN\n",
      "30          50         NaN     NaN   NaN                NaN             NaN\n",
      "31          63         NaN     NaN   NaN                NaN             NaN\n",
      "32          15         NaN     NaN   NaN                NaN             NaN\n",
      "33          56         NaN     NaN   NaN                NaN             NaN\n",
      "34          65         NaN     NaN   NaN                NaN             NaN\n",
      "35          56         NaN     NaN   NaN                NaN             NaN\n",
      "36           6         NaN     NaN   NaN                NaN             NaN\n",
      "37           6         NaN     NaN   NaN                NaN             NaN\n",
      "38          56         NaN     NaN   NaN                NaN             NaN\n",
      "39           3         NaN     NaN   NaN                NaN             NaN\n",
      "40          50         NaN     NaN   NaN                NaN             NaN\n",
      "41          63         NaN     NaN   NaN                NaN             NaN\n",
      "42          15         NaN     NaN   NaN                NaN             NaN\n",
      "43          56         NaN     NaN   NaN                NaN             NaN\n",
      "44          65         NaN     NaN   NaN                NaN             NaN\n",
      "45          56         NaN     NaN   NaN                NaN             NaN\n",
      "46           6         NaN     NaN   NaN                NaN             NaN\n",
      "47           6         NaN     NaN   NaN                NaN             NaN\n",
      "48          56         NaN     NaN   NaN                NaN             NaN\n",
      "49           3         NaN     NaN   NaN                NaN             NaN\n",
      "\n",
      "CSV Data after deleting the column 'Age':\n",
      "\n",
      "    Unnamed: 0  CustomerID  Gender  Annual Income(k$)  Spending Score\n",
      "0            0         1.0    Male               10.0            30.0\n",
      "1            1         2.0  Female               20.0            50.0\n",
      "2            2         3.0  Female               30.0            48.0\n",
      "3            3         4.0    Male               10.0            84.0\n",
      "4            4         5.0    Male               25.0            90.0\n",
      "5            5         6.0  Female               60.0            65.0\n",
      "6            6         7.0    Male               70.0            32.0\n",
      "7            7         8.0    Male               15.0            46.0\n",
      "8            8         9.0  Female               21.0            12.0\n",
      "9            9        10.0    Male               22.0            56.0\n",
      "10          50         NaN     NaN                NaN             NaN\n",
      "11          63         NaN     NaN                NaN             NaN\n",
      "12          15         NaN     NaN                NaN             NaN\n",
      "13          56         NaN     NaN                NaN             NaN\n",
      "14          65         NaN     NaN                NaN             NaN\n",
      "15          56         NaN     NaN                NaN             NaN\n",
      "16           6         NaN     NaN                NaN             NaN\n",
      "17           6         NaN     NaN                NaN             NaN\n",
      "18          56         NaN     NaN                NaN             NaN\n",
      "19           3         NaN     NaN                NaN             NaN\n",
      "20          50         NaN     NaN                NaN             NaN\n",
      "21          63         NaN     NaN                NaN             NaN\n",
      "22          15         NaN     NaN                NaN             NaN\n",
      "23          56         NaN     NaN                NaN             NaN\n",
      "24          65         NaN     NaN                NaN             NaN\n",
      "25          56         NaN     NaN                NaN             NaN\n",
      "26           6         NaN     NaN                NaN             NaN\n",
      "27           6         NaN     NaN                NaN             NaN\n",
      "28          56         NaN     NaN                NaN             NaN\n",
      "29           3         NaN     NaN                NaN             NaN\n",
      "30          50         NaN     NaN                NaN             NaN\n",
      "31          63         NaN     NaN                NaN             NaN\n",
      "32          15         NaN     NaN                NaN             NaN\n",
      "33          56         NaN     NaN                NaN             NaN\n",
      "34          65         NaN     NaN                NaN             NaN\n",
      "35          56         NaN     NaN                NaN             NaN\n",
      "36           6         NaN     NaN                NaN             NaN\n",
      "37           6         NaN     NaN                NaN             NaN\n",
      "38          56         NaN     NaN                NaN             NaN\n",
      "39           3         NaN     NaN                NaN             NaN\n",
      "40          50         NaN     NaN                NaN             NaN\n",
      "41          63         NaN     NaN                NaN             NaN\n",
      "42          15         NaN     NaN                NaN             NaN\n",
      "43          56         NaN     NaN                NaN             NaN\n",
      "44          65         NaN     NaN                NaN             NaN\n",
      "45          56         NaN     NaN                NaN             NaN\n",
      "46           6         NaN     NaN                NaN             NaN\n",
      "47           6         NaN     NaN                NaN             NaN\n",
      "48          56         NaN     NaN                NaN             NaN\n",
      "49           3         NaN     NaN                NaN             NaN\n"
     ]
    }
   ],
   "source": [
    "# import pandas with shortcut 'pd'\n",
    "import pandas as pd\n",
    "\n",
    "# read_csv function which is used to read the required CSV file\n",
    "data = pd.read_csv('Customers.csv')\n",
    "\n",
    "# display\n",
    "print(\"Original 'Customers.csv' CSV Data: \\n\")\n",
    "print(data)\n",
    "\n",
    "# drop function which is used in removing or deleting rows or columns from the CSV files\n",
    "data.drop('Age', inplace=True, axis=1)\n",
    "\n",
    "# display\n",
    "print(\"\\nCSV Data after deleting the column 'Age':\\n\")\n",
    "print(data)\n"
   ]
  },
  {
   "cell_type": "markdown",
   "id": "70b2039a",
   "metadata": {},
   "source": [
    "# Python List to CSV Using Pandas"
   ]
  },
  {
   "cell_type": "code",
   "execution_count": 67,
   "id": "43f56b69",
   "metadata": {},
   "outputs": [
    {
     "data": {
      "text/html": [
       "<div>\n",
       "<style scoped>\n",
       "    .dataframe tbody tr th:only-of-type {\n",
       "        vertical-align: middle;\n",
       "    }\n",
       "\n",
       "    .dataframe tbody tr th {\n",
       "        vertical-align: top;\n",
       "    }\n",
       "\n",
       "    .dataframe thead th {\n",
       "        text-align: right;\n",
       "    }\n",
       "</style>\n",
       "<table border=\"1\" class=\"dataframe\">\n",
       "  <thead>\n",
       "    <tr style=\"text-align: right;\">\n",
       "      <th></th>\n",
       "      <th>name</th>\n",
       "      <th>degree</th>\n",
       "      <th>score</th>\n",
       "    </tr>\n",
       "  </thead>\n",
       "  <tbody>\n",
       "    <tr>\n",
       "      <th>0</th>\n",
       "      <td>aparna</td>\n",
       "      <td>MBA</td>\n",
       "      <td>90</td>\n",
       "    </tr>\n",
       "    <tr>\n",
       "      <th>1</th>\n",
       "      <td>pankaj</td>\n",
       "      <td>BCA</td>\n",
       "      <td>40</td>\n",
       "    </tr>\n",
       "    <tr>\n",
       "      <th>2</th>\n",
       "      <td>sudhir</td>\n",
       "      <td>M.Tech</td>\n",
       "      <td>80</td>\n",
       "    </tr>\n",
       "    <tr>\n",
       "      <th>3</th>\n",
       "      <td>Geeku</td>\n",
       "      <td>MBA</td>\n",
       "      <td>98</td>\n",
       "    </tr>\n",
       "  </tbody>\n",
       "</table>\n",
       "</div>"
      ],
      "text/plain": [
       "     name  degree  score\n",
       "0  aparna     MBA     90\n",
       "1  pankaj     BCA     40\n",
       "2  sudhir  M.Tech     80\n",
       "3   Geeku     MBA     98"
      ]
     },
     "execution_count": 67,
     "metadata": {},
     "output_type": "execute_result"
    }
   ],
   "source": [
    "# importing pandas as pd\n",
    "import pandas as pd\n",
    "\n",
    "\t\n",
    "# list of name, degree, score\n",
    "nme = [\"aparna\", \"pankaj\", \"sudhir\", \"Geeku\"]\n",
    "deg = [\"MBA\", \"BCA\", \"M.Tech\", \"MBA\"]\n",
    "scr = [90, 40, 80, 98]\n",
    "\t\n",
    "# dictionary of lists\n",
    "dict = {'name': nme, 'degree': deg, 'score': scr}\n",
    "\t\n",
    "df = pd.DataFrame(dict)\n",
    "\t\n",
    "# saving the dataframe\n",
    "df.to_csv('GFG.csv')\n",
    "df"
   ]
  },
  {
   "cell_type": "markdown",
   "id": "534944bd",
   "metadata": {},
   "source": [
    "# Plot multiple sine wave signal "
   ]
  },
  {
   "cell_type": "code",
   "execution_count": 51,
   "id": "8dd66b61",
   "metadata": {},
   "outputs": [
    {
     "data": {
      "image/png": "[encoded data removed]",
      "text/plain": [
       "<Figure size 1000x600 with 1 Axes>"
      ]
     },
     "metadata": {},
     "output_type": "display_data"
    }
   ],
   "source": [
    "import numpy as np\n",
    "import matplotlib.pyplot as plt\n",
    "# Create a time array from 0 to 2*pi (one full cycle of a sine wave)\n",
    "t = np.linspace(0, 2 * np.pi, 1000)\n",
    "# Define parameters for multiple sine waves\n",
    "freq1 = 1  # Frequency of the first sine wave (1 Hz)\n",
    "amplitude1 = 1  # Amplitude of the first sine wave\n",
    "phase1 = 0  # Phase of the first sine wave (in radians)\n",
    "\n",
    "freq3 = 3  # Frequency of the first sine wave (1 Hz)\n",
    "amplitude3 = 3  # Amplitude of the first sine wave\n",
    "phase3 = 0  # Phase of the first sine wave (in radians)\n",
    "\n",
    "freq2 = 2  # Frequency of the second sine wave (2 Hz)\n",
    "amplitude2 = 2  # Amplitude of the second sine wave\n",
    "phase2 = np.pi / 2  # Phase of the second sine wave (in radians)\n",
    "\n",
    "freq4 = 4  # Frequency of the second sine wave (2 Hz)\n",
    "amplitude4 = 4  # Amplitude of the second sine wave\n",
    "phase4 = np.pi / 2  # Phase of the second sine wave (in radians)\n",
    "\n",
    "\n",
    "# Generate sine wave data for the first wave\n",
    "signal1 = amplitude1 * np.sin(2 * np.pi * freq1 * t + phase1)\n",
    "signal3 = amplitude3 * np.sin(2 * np.pi * freq3 * t + phase1)\n",
    "\n",
    "# Generate sine wave data for the second wave\n",
    "signal2 = amplitude2 * np.sin(2 * np.pi * freq2 * t + phase2)\n",
    "signal4 = amplitude4 * np.sin(2 * np.pi * freq4 * t + phase2)\n",
    "\n",
    "\n",
    "\n",
    "# Create a new figure\n",
    "plt.figure(figsize=(10, 6))\n",
    "\n",
    "# Plot the first sine wave\n",
    "plt.plot(t, signal1, label=\"Sine Wave 1\")\n",
    "\n",
    "# Plot the second sine wave\n",
    "plt.plot(t, signal2, label=\"Sine Wave 2\")\n",
    "# Plot the 3rd sine wave\n",
    "plt.plot(t, signal3, label=\"Sine Wave 3\")\n",
    "# Plot the 4th sine wave\n",
    "plt.plot(t, signal4, label=\"Sine Wave 4\")\n",
    "\n",
    "# Add labels and a legend\n",
    "plt.xlabel(\"Time (s)\")\n",
    "plt.ylabel(\"Amplitude\")\n",
    "plt.title(\"Multiple Sine Waves\")\n",
    "plt.legend()\n",
    "\n",
    "# Show the plot\n",
    "plt.grid(True)\n",
    "plt.show()\n"
   ]
  },
  {
   "cell_type": "markdown",
   "id": "4d11adb7",
   "metadata": {},
   "source": [
    "# Covert multiple sinwave to csv file"
   ]
  },
  {
   "cell_type": "code",
   "execution_count": 56,
   "id": "8687b3bc",
   "metadata": {},
   "outputs": [],
   "source": [
    "import numpy as np\n",
    "import pandas as pd\n",
    "\n",
    "# Generate time values\n",
    "t = np.linspace(0, 2 * np.pi, 1000)\n",
    "\n",
    "# Define parameters for multiple sine waves\n",
    "freq1 = 1  # Frequency of the first sine wave (1 Hz)\n",
    "amplitude1 = 1  # Amplitude of the first sine wave\n",
    "phase1 = 0  # Phase of the first sine wave (in radians)\n",
    "\n",
    "freq3 = 3  # Frequency of the first sine wave (1 Hz)\n",
    "amplitude3 = 3  # Amplitude of the first sine wave\n",
    "phase3 = 0  # Phase of the first sine wave (in radians)\n",
    "\n",
    "freq2 = 2  # Frequency of the second sine wave (2 Hz)\n",
    "amplitude2 = 2  # Amplitude of the second sine wave\n",
    "phase2 = np.pi / 2  # Phase of the second sine wave (in radians)\n",
    "\n",
    "freq4 = 4  # Frequency of the second sine wave (2 Hz)\n",
    "amplitude4 = 4  # Amplitude of the second sine wave\n",
    "phase4 = np.pi / 2  # Phase of the second sine wave (in radians)\n",
    "\n",
    "# Generate sine wave data\n",
    "signal1 = amplitude1 * np.sin(2 * np.pi * freq1 * t + phase1)\n",
    "signal2 = amplitude2 * np.sin(2 * np.pi * freq2 * t + phase2)\n",
    "signal3 = amplitude3 * np.sin(2 * np.pi * freq3 * t + phase3)\n",
    "signal4 = amplitude4 * np.sin(2 * np.pi * freq4 * t + phase4)\n",
    "# Create a DataFrame to store the data\n",
    "data = pd.DataFrame({'Time': t, 'Sine Wave 1': signal1, 'Sine Wave 2': signal2,'Sine Wave 3': signal3,'Sine Wave 4': signal4})\n",
    "\n",
    "# Save the DataFrame to a CSV file\n",
    "data.to_csv('sine_waves.csv', index= True)\n"
   ]
  },
  {
   "cell_type": "code",
   "execution_count": 58,
   "id": "58d7489b",
   "metadata": {},
   "outputs": [
    {
     "data": {
      "text/html": [
       "<div>\n",
       "<style scoped>\n",
       "    .dataframe tbody tr th:only-of-type {\n",
       "        vertical-align: middle;\n",
       "    }\n",
       "\n",
       "    .dataframe tbody tr th {\n",
       "        vertical-align: top;\n",
       "    }\n",
       "\n",
       "    .dataframe thead th {\n",
       "        text-align: right;\n",
       "    }\n",
       "</style>\n",
       "<table border=\"1\" class=\"dataframe\">\n",
       "  <thead>\n",
       "    <tr style=\"text-align: right;\">\n",
       "      <th></th>\n",
       "      <th>Unnamed: 0</th>\n",
       "      <th>Time</th>\n",
       "      <th>Sine Wave 1</th>\n",
       "      <th>Sine Wave 2</th>\n",
       "      <th>Sine Wave 3</th>\n",
       "      <th>Sine Wave 4</th>\n",
       "    </tr>\n",
       "  </thead>\n",
       "  <tbody>\n",
       "    <tr>\n",
       "      <th>0</th>\n",
       "      <td>0</td>\n",
       "      <td>0.000000</td>\n",
       "      <td>0.000000</td>\n",
       "      <td>2.000000</td>\n",
       "      <td>0.000000</td>\n",
       "      <td>4.000000</td>\n",
       "    </tr>\n",
       "    <tr>\n",
       "      <th>1</th>\n",
       "      <td>1</td>\n",
       "      <td>0.006289</td>\n",
       "      <td>0.039508</td>\n",
       "      <td>1.993757</td>\n",
       "      <td>0.354829</td>\n",
       "      <td>3.950131</td>\n",
       "    </tr>\n",
       "    <tr>\n",
       "      <th>2</th>\n",
       "      <td>2</td>\n",
       "      <td>0.012579</td>\n",
       "      <td>0.078954</td>\n",
       "      <td>1.975065</td>\n",
       "      <td>0.704676</td>\n",
       "      <td>3.801766</td>\n",
       "    </tr>\n",
       "    <tr>\n",
       "      <th>3</th>\n",
       "      <td>3</td>\n",
       "      <td>0.018868</td>\n",
       "      <td>0.118276</td>\n",
       "      <td>1.944043</td>\n",
       "      <td>1.044631</td>\n",
       "      <td>3.558605</td>\n",
       "    </tr>\n",
       "    <tr>\n",
       "      <th>4</th>\n",
       "      <td>4</td>\n",
       "      <td>0.025158</td>\n",
       "      <td>0.157414</td>\n",
       "      <td>1.900883</td>\n",
       "      <td>1.369921</td>\n",
       "      <td>3.226712</td>\n",
       "    </tr>\n",
       "    <tr>\n",
       "      <th>...</th>\n",
       "      <td>...</td>\n",
       "      <td>...</td>\n",
       "      <td>...</td>\n",
       "      <td>...</td>\n",
       "      <td>...</td>\n",
       "      <td>...</td>\n",
       "    </tr>\n",
       "    <tr>\n",
       "      <th>995</th>\n",
       "      <td>995</td>\n",
       "      <td>6.258027</td>\n",
       "      <td>0.998728</td>\n",
       "      <td>-1.989833</td>\n",
       "      <td>-2.965722</td>\n",
       "      <td>3.918869</td>\n",
       "    </tr>\n",
       "    <tr>\n",
       "      <th>996</th>\n",
       "      <td>996</td>\n",
       "      <td>6.264317</td>\n",
       "      <td>0.995957</td>\n",
       "      <td>-1.967719</td>\n",
       "      <td>-2.891419</td>\n",
       "      <td>3.743837</td>\n",
       "    </tr>\n",
       "    <tr>\n",
       "      <th>997</th>\n",
       "      <td>997</td>\n",
       "      <td>6.270606</td>\n",
       "      <td>0.991630</td>\n",
       "      <td>-1.933320</td>\n",
       "      <td>-2.776525</td>\n",
       "      <td>3.475454</td>\n",
       "    </tr>\n",
       "    <tr>\n",
       "      <th>998</th>\n",
       "      <td>998</td>\n",
       "      <td>6.276896</td>\n",
       "      <td>0.985755</td>\n",
       "      <td>-1.886851</td>\n",
       "      <td>-2.622652</td>\n",
       "      <td>3.120412</td>\n",
       "    </tr>\n",
       "    <tr>\n",
       "      <th>999</th>\n",
       "      <td>999</td>\n",
       "      <td>6.283185</td>\n",
       "      <td>0.978341</td>\n",
       "      <td>-1.828601</td>\n",
       "      <td>-2.431962</td>\n",
       "      <td>2.687563</td>\n",
       "    </tr>\n",
       "  </tbody>\n",
       "</table>\n",
       "<p>1000 rows × 6 columns</p>\n",
       "</div>"
      ],
      "text/plain": [
       "     Unnamed: 0      Time  Sine Wave 1  Sine Wave 2  Sine Wave 3  Sine Wave 4\n",
       "0             0  0.000000     0.000000     2.000000     0.000000     4.000000\n",
       "1             1  0.006289     0.039508     1.993757     0.354829     3.950131\n",
       "2             2  0.012579     0.078954     1.975065     0.704676     3.801766\n",
       "3             3  0.018868     0.118276     1.944043     1.044631     3.558605\n",
       "4             4  0.025158     0.157414     1.900883     1.369921     3.226712\n",
       "..          ...       ...          ...          ...          ...          ...\n",
       "995         995  6.258027     0.998728    -1.989833    -2.965722     3.918869\n",
       "996         996  6.264317     0.995957    -1.967719    -2.891419     3.743837\n",
       "997         997  6.270606     0.991630    -1.933320    -2.776525     3.475454\n",
       "998         998  6.276896     0.985755    -1.886851    -2.622652     3.120412\n",
       "999         999  6.283185     0.978341    -1.828601    -2.431962     2.687563\n",
       "\n",
       "[1000 rows x 6 columns]"
      ]
     },
     "execution_count": 58,
     "metadata": {},
     "output_type": "execute_result"
    }
   ],
   "source": [
    "df=pd.read_csv('sine_waves.csv')\n",
    "df"
   ]
  },
  {
   "cell_type": "code",
   "execution_count": 4,
   "id": "7c881de6",
   "metadata": {},
   "outputs": [],
   "source": [
    "t =[1,2,3,4,5,6,9]\n"
   ]
  },
  {
   "cell_type": "code",
   "execution_count": 5,
   "id": "8dc8bc5f",
   "metadata": {},
   "outputs": [
    {
     "data": {
      "text/plain": [
       "[1, 2, 3, 4, 5, 6, 9]"
      ]
     },
     "execution_count": 5,
     "metadata": {},
     "output_type": "execute_result"
    }
   ],
   "source": [
    "t"
   ]
  },
  {
   "cell_type": "code",
   "execution_count": 8,
   "id": "cf2acf4b",
   "metadata": {},
   "outputs": [],
   "source": [
    "x=t[2]"
   ]
  },
  {
   "cell_type": "code",
   "execution_count": 9,
   "id": "1816ff54",
   "metadata": {},
   "outputs": [
    {
     "data": {
      "text/plain": [
       "3"
      ]
     },
     "execution_count": 9,
     "metadata": {},
     "output_type": "execute_result"
    }
   ],
   "source": [
    "x"
   ]
  },
  {
   "cell_type": "markdown",
   "id": "2abe2d74",
   "metadata": {},
   "source": [
    "# All 4 signals will be divided into 10 segments"
   ]
  },
  {
   "cell_type": "code",
   "execution_count": 1,
   "id": "72d66ae3",
   "metadata": {},
   "outputs": [],
   "source": [
    "import numpy as np\n",
    "import pandas as pd\n",
    "\n",
    "# Generate time values\n",
    "t = np.linspace(0, 2 * np.pi, 1000)\n",
    "\n",
    "# Define parameters for multiple sine waves\n",
    "freq1 = 1  # Frequency of the first sine wave (1 Hz)\n",
    "amplitude1 = 1  # Amplitude of the first sine wave\n",
    "phase1 = 0  # Phase of the first sine wave (in radians)\n",
    "\n",
    "freq3 = 3  # Frequency of the first sine wave (1 Hz)\n",
    "amplitude3 = 3  # Amplitude of the first sine wave\n",
    "phase3 = 0  # Phase of the first sine wave (in radians)\n",
    "\n",
    "freq2 = 2  # Frequency of the second sine wave (2 Hz)\n",
    "amplitude2 = 2  # Amplitude of the second sine wave\n",
    "phase2 = np.pi / 2  # Phase of the second sine wave (in radians)\n",
    "\n",
    "freq4 = 4  # Frequency of the second sine wave (2 Hz)\n",
    "amplitude4 = 4  # Amplitude of the second sine wave\n",
    "phase4 = np.pi / 2  # Phase of the second sine wave (in radians)\n",
    "\n",
    "# Generate sine wave data\n",
    "signal1 = amplitude1 * np.sin(2 * np.pi * freq1 * t + phase1)\n",
    "signal2 = amplitude2 * np.sin(2 * np.pi * freq2 * t + phase2)\n",
    "signal3 = amplitude3 * np.sin(2 * np.pi * freq3 * t + phase3)\n",
    "signal4 = amplitude4 * np.sin(2 * np.pi * freq4 * t + phase4)\n",
    "\n",
    "# Create a DataFrame to store the data\n",
    "data = pd.DataFrame({'Time': t, 'Sine Wave 1': signal1, 'Sine Wave 2': signal2,\n",
    "                     'Sine Wave 3': signal3, 'Sine Wave 4': signal4})\n",
    "\n",
    "# Split each signal into 10 segments of length 100\n",
    "segment_length = 100\n",
    "num_segments = 10\n",
    "\n",
    "for i in range(num_segments):\n",
    "    start_idx = i * segment_length\n",
    "    end_idx = start_idx + segment_length\n",
    "    segment_data = data.iloc[start_idx:end_idx]\n",
    "    segment_data.to_csv(f'sine_wave_segment_{i+1}.csv', index=False)\n"
   ]
  },
  {
   "cell_type": "code",
   "execution_count": 3,
   "id": "d7c0afbe",
   "metadata": {},
   "outputs": [
    {
     "data": {
      "text/html": [
       "<div>\n",
       "<style scoped>\n",
       "    .dataframe tbody tr th:only-of-type {\n",
       "        vertical-align: middle;\n",
       "    }\n",
       "\n",
       "    .dataframe tbody tr th {\n",
       "        vertical-align: top;\n",
       "    }\n",
       "\n",
       "    .dataframe thead th {\n",
       "        text-align: right;\n",
       "    }\n",
       "</style>\n",
       "<table border=\"1\" class=\"dataframe\">\n",
       "  <thead>\n",
       "    <tr style=\"text-align: right;\">\n",
       "      <th></th>\n",
       "      <th>Time</th>\n",
       "      <th>Sine Wave 1</th>\n",
       "      <th>Sine Wave 2</th>\n",
       "      <th>Sine Wave 3</th>\n",
       "      <th>Sine Wave 4</th>\n",
       "    </tr>\n",
       "  </thead>\n",
       "  <tbody>\n",
       "    <tr>\n",
       "      <th>0</th>\n",
       "      <td>0.000000</td>\n",
       "      <td>0.000000</td>\n",
       "      <td>2.000000</td>\n",
       "      <td>0.000000</td>\n",
       "      <td>4.000000</td>\n",
       "    </tr>\n",
       "    <tr>\n",
       "      <th>1</th>\n",
       "      <td>0.006289</td>\n",
       "      <td>0.039508</td>\n",
       "      <td>1.993757</td>\n",
       "      <td>0.354829</td>\n",
       "      <td>3.950131</td>\n",
       "    </tr>\n",
       "    <tr>\n",
       "      <th>2</th>\n",
       "      <td>0.012579</td>\n",
       "      <td>0.078954</td>\n",
       "      <td>1.975065</td>\n",
       "      <td>0.704676</td>\n",
       "      <td>3.801766</td>\n",
       "    </tr>\n",
       "    <tr>\n",
       "      <th>3</th>\n",
       "      <td>0.018868</td>\n",
       "      <td>0.118276</td>\n",
       "      <td>1.944043</td>\n",
       "      <td>1.044631</td>\n",
       "      <td>3.558605</td>\n",
       "    </tr>\n",
       "    <tr>\n",
       "      <th>4</th>\n",
       "      <td>0.025158</td>\n",
       "      <td>0.157414</td>\n",
       "      <td>1.900883</td>\n",
       "      <td>1.369921</td>\n",
       "      <td>3.226712</td>\n",
       "    </tr>\n",
       "    <tr>\n",
       "      <th>...</th>\n",
       "      <td>...</td>\n",
       "      <td>...</td>\n",
       "      <td>...</td>\n",
       "      <td>...</td>\n",
       "      <td>...</td>\n",
       "    </tr>\n",
       "    <tr>\n",
       "      <th>95</th>\n",
       "      <td>0.597500</td>\n",
       "      <td>-0.575006</td>\n",
       "      <td>0.677473</td>\n",
       "      <td>-2.893671</td>\n",
       "      <td>-3.082060</td>\n",
       "    </tr>\n",
       "    <tr>\n",
       "      <th>96</th>\n",
       "      <td>0.603790</td>\n",
       "      <td>-0.606880</td>\n",
       "      <td>0.526787</td>\n",
       "      <td>-2.779729</td>\n",
       "      <td>-3.444992</td>\n",
       "    </tr>\n",
       "    <tr>\n",
       "      <th>97</th>\n",
       "      <td>0.610079</td>\n",
       "      <td>-0.637807</td>\n",
       "      <td>0.372811</td>\n",
       "      <td>-2.626763</td>\n",
       "      <td>-3.722024</td>\n",
       "    </tr>\n",
       "    <tr>\n",
       "      <th>98</th>\n",
       "      <td>0.616369</td>\n",
       "      <td>-0.667737</td>\n",
       "      <td>0.216507</td>\n",
       "      <td>-2.436922</td>\n",
       "      <td>-3.906249</td>\n",
       "    </tr>\n",
       "    <tr>\n",
       "      <th>99</th>\n",
       "      <td>0.622658</td>\n",
       "      <td>-0.696625</td>\n",
       "      <td>0.058852</td>\n",
       "      <td>-2.212870</td>\n",
       "      <td>-3.993073</td>\n",
       "    </tr>\n",
       "  </tbody>\n",
       "</table>\n",
       "<p>100 rows × 5 columns</p>\n",
       "</div>"
      ],
      "text/plain": [
       "        Time  Sine Wave 1  Sine Wave 2  Sine Wave 3  Sine Wave 4\n",
       "0   0.000000     0.000000     2.000000     0.000000     4.000000\n",
       "1   0.006289     0.039508     1.993757     0.354829     3.950131\n",
       "2   0.012579     0.078954     1.975065     0.704676     3.801766\n",
       "3   0.018868     0.118276     1.944043     1.044631     3.558605\n",
       "4   0.025158     0.157414     1.900883     1.369921     3.226712\n",
       "..       ...          ...          ...          ...          ...\n",
       "95  0.597500    -0.575006     0.677473    -2.893671    -3.082060\n",
       "96  0.603790    -0.606880     0.526787    -2.779729    -3.444992\n",
       "97  0.610079    -0.637807     0.372811    -2.626763    -3.722024\n",
       "98  0.616369    -0.667737     0.216507    -2.436922    -3.906249\n",
       "99  0.622658    -0.696625     0.058852    -2.212870    -3.993073\n",
       "\n",
       "[100 rows x 5 columns]"
      ]
     },
     "execution_count": 3,
     "metadata": {},
     "output_type": "execute_result"
    }
   ],
   "source": [
    "df=pd.read_csv('sine_wave_segment_1.csv')\n",
    "df"
   ]
  },
  {
   "cell_type": "markdown",
   "id": "5133065d",
   "metadata": {},
   "source": [
    "# Convert all 10 segment into 3D matrix"
   ]
  },
  {
   "cell_type": "code",
   "execution_count": 6,
   "id": "f4cf2194",
   "metadata": {},
   "outputs": [],
   "source": [
    "import numpy as np\n",
    "import pandas as pd\n",
    "\n",
    "# Generate time values\n",
    "t = np.linspace(0, 2 * np.pi, 1000)\n",
    "\n",
    "# Define parameters for multiple sine waves\n",
    "freq1 = 1  # Frequency of the first sine wave (1 Hz)\n",
    "amplitude1 = 1  # Amplitude of the first sine wave\n",
    "phase1 = 0  # Phase of the first sine wave (in radians)\n",
    "\n",
    "freq3 = 3  # Frequency of the first sine wave (1 Hz)\n",
    "amplitude3 = 3  # Amplitude of the first sine wave\n",
    "phase3 = 0  # Phase of the first sine wave (in radians)\n",
    "\n",
    "freq2 = 2  # Frequency of the second sine wave (2 Hz)\n",
    "amplitude2 = 2  # Amplitude of the second sine wave\n",
    "phase2 = np.pi / 2  # Phase of the second sine wave (in radians)\n",
    "\n",
    "freq4 = 4  # Frequency of the second sine wave (2 Hz)\n",
    "amplitude4 = 4  # Amplitude of the second sine wave\n",
    "phase4 = np.pi / 2  # Phase of the second sine wave (in radians)\n",
    "\n",
    "# Generate sine wave data\n",
    "signal1 = amplitude1 * np.sin(2 * np.pi * freq1 * t + phase1)\n",
    "signal2 = amplitude2 * np.sin(2 * np.pi * freq2 * t + phase2)\n",
    "signal3 = amplitude3 * np.sin(2 * np.pi * freq3 * t + phase3)\n",
    "signal4 = amplitude4 * np.sin(2 * np.pi * freq4 * t + phase4)\n",
    "\n",
    "# Create a DataFrame to store the data\n",
    "data = pd.DataFrame({'Time': t, 'Sine Wave 1': signal1, 'Sine Wave 2': signal2,\n",
    "                     'Sine Wave 3': signal3, 'Sine Wave 4': signal4})\n",
    "\n",
    "# Split each signal into 10 segments of length 100\n",
    "segment_length = 100\n",
    "num_segments = 10\n",
    "\n",
    "# Create a 3D matrix to store the segments\n",
    "matrix_3d = np.zeros((num_segments, segment_length, 4))\n",
    "\n",
    "for i in range(4):\n",
    "    signal_name = f'Sine Wave {i + 1}'\n",
    "    for j in range(num_segments):\n",
    "        start_idx = j * segment_length\n",
    "        end_idx = start_idx + segment_length\n",
    "        segment_data = data[signal_name][start_idx:end_idx].values\n",
    "        matrix_3d[j, :, i] = segment_data\n",
    "\n",
    "# Save each segment as a separate CSV file\n",
    "for i in range(num_segments):\n",
    "    segment_df = pd.DataFrame({'Time': t[:segment_length],\n",
    "                               'Sine Wave 1': matrix_3d[i, :, 0],\n",
    "                               'Sine Wave 2': matrix_3d[i, :, 1],\n",
    "                               'Sine Wave 3': matrix_3d[i, :, 2],\n",
    "                               'Sine Wave 4': matrix_3d[i, :, 3]})\n",
    "    segment_df.to_csv(f'sine_wave_segment_{i + 1}.csv', index=False)\n",
    "\n",
    "# Access any segment from the 3D matrix (e.g., segment 3 of Sine Wave 1)\n",
    "segment_3_wave_1 = matrix_3d[2, :, 0]\n",
    "segment_3_wave_2 = matrix_3d[2, :, 0]\n"
   ]
  },
  {
   "cell_type": "code",
   "execution_count": 8,
   "id": "37789fe9",
   "metadata": {},
   "outputs": [
    {
     "data": {
      "text/plain": [
       "array([ 0.9987699 ,  0.99603114,  0.99173711,  0.98589451,  0.97851248,\n",
       "        0.96960254,  0.9591786 ,  0.94725693,  0.93385616,  0.9189972 ,\n",
       "        0.90270327,  0.88499979,  0.86591442,  0.84547695,  0.82371931,\n",
       "        0.80067545,  0.77638137,  0.750875  ,  0.72419616,  0.69638652,\n",
       "        0.66748949,  0.63755021,  0.60661541,  0.5747334 ,  0.54195397,\n",
       "        0.5083283 ,  0.47390889,  0.43874949,  0.402905  ,  0.36643138,\n",
       "        0.3293856 ,  0.29182549,  0.25380971,  0.21539761,  0.17664918,\n",
       "        0.13762491,  0.09838575,  0.05899297,  0.01950806, -0.0200073 ,\n",
       "       -0.05949142, -0.09888265, -0.13811948, -0.17714063, -0.21588519,\n",
       "       -0.25429266, -0.29230305, -0.32985702, -0.36689594, -0.40336195,\n",
       "       -0.43919814, -0.47434853, -0.50875824, -0.54237355, -0.57514196,\n",
       "       -0.6070123 , -0.63793482, -0.66786122, -0.69674479, -0.72454041,\n",
       "       -0.75120469, -0.77669599, -0.8009745 , -0.82400232, -0.8457435 ,\n",
       "       -0.86616407, -0.88523216, -0.902918  , -0.91919396, -0.93403463,\n",
       "       -0.94741684, -0.95931969, -0.9697246 , -0.97861532, -0.98597796,\n",
       "       -0.99180104, -0.99607546, -0.99879454, -0.99995403, -0.99955214,\n",
       "       -0.99758948, -0.99406912, -0.98899656, -0.98237971, -0.97422892,\n",
       "       -0.9645569 , -0.95337876, -0.94071195, -0.92657626, -0.91099375,\n",
       "       -0.89398876, -0.87558783, -0.85581971, -0.83471525, -0.81230742,\n",
       "       -0.7886312 , -0.76372356, -0.73762339, -0.71037145, -0.68201029])"
      ]
     },
     "execution_count": 8,
     "metadata": {},
     "output_type": "execute_result"
    }
   ],
   "source": [
    "segment_3_wave_1"
   ]
  },
  {
   "cell_type": "markdown",
   "id": "7fb40028",
   "metadata": {},
   "source": [
    "# All 3D data stored into a variable and access any segment of any signal"
   ]
  },
  {
   "cell_type": "code",
   "execution_count": 18,
   "id": "029bc624",
   "metadata": {},
   "outputs": [],
   "source": [
    "# Access all 40 segments of 4 signals\n",
    "num_segments = 10  # Assuming you have 10 segments per signal\n",
    "num_signals = 4\n",
    "\n",
    "all_segments = np.zeros((num_segments * num_signals, segment_length, num_signals))\n",
    "\n",
    "for i in range(num_signals):\n",
    "    for j in range(num_segments):\n",
    "        all_segments[i * num_segments + j, :, i] = matrix_3d[j, :, i]\n",
    "\n",
    "# Now, all_segments contains all 40 segments of the 4 signals\n",
    "\n",
    "\n",
    "\n",
    "# Specify the segment number and signal number you want to access\n",
    "desired_segment = 2  # This corresponds to the third segment (0-based index)\n",
    "desired_signal = 1   # This corresponds to the second signal (0-based index)\n",
    "\n",
    "# Access the desired segment from all_segments\n",
    "segment_data = all_segments[desired_segment, :, desired_signal]\n"
   ]
  },
  {
   "cell_type": "code",
   "execution_count": 23,
   "id": "ee899460",
   "metadata": {},
   "outputs": [
    {
     "name": "stdout",
     "output_type": "stream",
     "text": [
      "[-1.99016526 -1.9683121  -1.93416995 -1.88795197 -1.82994672 -1.76051634\n",
      " -1.68009433 -1.58918278 -1.4883493  -1.37822344 -1.25949275 -1.13289852\n",
      " -0.99923113 -0.85932513 -0.71405399 -0.56432473 -0.41107214 -0.25525306\n",
      " -0.09784033  0.06018326  0.2178311   0.37411893  0.52807097  0.67872605\n",
      "  0.82514356  0.96640936  1.10164145  1.22999554  1.35067026  1.46291217\n",
      "  1.56602051  1.65935153  1.74232253  1.81441548  1.87518027  1.92423753\n",
      "  1.96128097  1.98607932  1.99847774  1.99839883  1.98584308  1.96088889\n",
      "  1.92369204  1.87448478  1.81357433  1.74134098  1.65823571  1.56477738\n",
      "  1.46154949  1.34919653  1.22841998  1.09997389  0.9646602   0.82332374\n",
      "  0.67684692  0.52614427  0.37215667  0.21584555  0.05818681 -0.09983522\n",
      " -0.25723393 -0.41302662 -0.56624061 -0.71591933 -0.86112826 -1.00096081\n",
      " -1.13454394 -1.26104364 -1.37967012 -1.48968274 -1.59039465 -1.68117706\n",
      " -1.76146319 -1.83075175 -1.88861018 -1.93467722 -1.96866526 -1.9903621\n",
      " -1.99963228 -1.99641792 -1.98073908 -1.95269367 -1.91245677 -1.86027961\n",
      " -1.79648794 -1.72148005 -1.63572424 -1.53975592 -1.43417426 -1.31963845\n",
      " -1.19686359 -1.0666162  -0.92970949 -0.78699821 -0.63937338 -0.48775666\n",
      " -0.33309468 -0.17635305 -0.01851038  0.13944787]\n"
     ]
    }
   ],
   "source": [
    "print(matrix_3d[desired_segment, :, desired_signal])\n"
   ]
  },
  {
   "cell_type": "code",
   "execution_count": 24,
   "id": "92731a3c",
   "metadata": {},
   "outputs": [
    {
     "data": {
      "text/plain": [
       "(40, 100, 4)"
      ]
     },
     "execution_count": 24,
     "metadata": {},
     "output_type": "execute_result"
    }
   ],
   "source": [
    "all_segments.shape"
   ]
  },
  {
   "cell_type": "markdown",
   "id": "3b78f6d2",
   "metadata": {},
   "source": [
    "# Calculate mean, variance , S Deviation off all segments and access all segments statistics"
   ]
  },
  {
   "cell_type": "code",
   "execution_count": 44,
   "id": "1444a70c",
   "metadata": {},
   "outputs": [],
   "source": [
    "# Initialize empty lists to store segment statistics\n",
    "segment_means = []\n",
    "segment_variances = []\n",
    "segment_std_devs = []\n",
    "\n",
    "# Loop through all segments\n",
    "for i in range(num_segments):\n",
    "    # Access the data for the current segment for all signals\n",
    "    segment_data = all_segments[i::num_segments, :, :]\n",
    "\n",
    "    # Calculate the statistics for the current segment\n",
    "    segment_mean = np.mean(segment_data)\n",
    "    segment_variance = np.var(segment_data)\n",
    "    segment_std_dev = np.std(segment_data)\n",
    "\n",
    "    # Append the statistics to the respective lists\n",
    "    segment_means.append(segment_mean)\n",
    "    segment_variances.append(segment_variance)\n",
    "    segment_std_devs.append(segment_std_dev)\n",
    "\n",
    "# Now, you have lists segment_means, segment_variances, and segment_std_devs\n",
    "# where each element corresponds to the statistics of an individual segment\n"
   ]
  },
  {
   "cell_type": "code",
   "execution_count": 45,
   "id": "8e00a894",
   "metadata": {},
   "outputs": [
    {
     "name": "stdout",
     "output_type": "stream",
     "text": [
      "Statistics for Segment 1:\n",
      "Mean: 0.10776416667131664\n",
      "Variance: 0.09694296855889237\n",
      "Standard Deviation: 0.3113566581251995\n",
      "\n",
      "Statistics for Segment 2:\n",
      "Mean: -0.04262198118914091\n",
      "Variance: 0.1399460486148607\n",
      "Standard Deviation: 0.3740936361592652\n",
      "\n",
      "Statistics for Segment 3:\n",
      "Mean: -0.049000993192349\n",
      "Variance: 0.1373804588848782\n",
      "Standard Deviation: 0.3706487000987299\n",
      "\n",
      "Statistics for Segment 4:\n",
      "Mean: 0.11017993563583225\n",
      "Variance: 0.09463180904206205\n",
      "Standard Deviation: 0.30762283569667265\n",
      "\n",
      "Statistics for Segment 5:\n",
      "Mean: -0.10290472519597069\n",
      "Variance: 0.10143679370115909\n",
      "Standard Deviation: 0.3184914342665421\n",
      "\n",
      "Statistics for Segment 6:\n",
      "Mean: 0.03169540778525107\n",
      "Variance: 0.14351059141267863\n",
      "Standard Deviation: 0.37882791794253845\n",
      "\n",
      "Statistics for Segment 7:\n",
      "Mean: 0.05920608204970008\n",
      "Variance: 0.13253313708909742\n",
      "Standard Deviation: 0.3640510089109731\n",
      "\n",
      "Statistics for Segment 8:\n",
      "Mean: -0.11332317762207218\n",
      "Variance: 0.09154797643079693\n",
      "Standard Deviation: 0.30256896144647244\n",
      "\n",
      "Statistics for Segment 9:\n",
      "Mean: 0.09703324235529288\n",
      "Variance: 0.10658993999391252\n",
      "Standard Deviation: 0.3264811479915992\n",
      "\n",
      "Statistics for Segment 10:\n",
      "Mean: -0.02045711824093477\n",
      "Variance: 0.1460833851410126\n",
      "Standard Deviation: 0.38220856235962664\n",
      "\n",
      "Statistics for Segment 11:\n",
      "Mean: 0.0657756632909773\n",
      "Variance: 0.49753477853776884\n",
      "Standard Deviation: 0.7053614524042044\n",
      "\n",
      "Statistics for Segment 12:\n",
      "Mean: -0.0670507275813927\n",
      "Variance: 0.49991426840204084\n",
      "Standard Deviation: 0.7070461571934613\n",
      "\n",
      "Statistics for Segment 13:\n",
      "Mean: -0.05912622487485933\n",
      "Variance: 0.4858661080535913\n",
      "Standard Deviation: 0.6970409658360055\n",
      "\n",
      "Statistics for Segment 14:\n",
      "Mean: 0.07291429096488726\n",
      "Variance: 0.5114447788614735\n",
      "Standard Deviation: 0.7151536749968314\n",
      "\n",
      "Statistics for Segment 15:\n",
      "Mean: 0.05189529532473058\n",
      "Variance: 0.47458715720795164\n",
      "Standard Deviation: 0.6889028648568328\n",
      "\n",
      "Statistics for Segment 16:\n",
      "Mean: -0.07806076114940795\n",
      "Variance: 0.5223612445280303\n",
      "Standard Deviation: 0.7227456292002259\n",
      "\n",
      "Statistics for Segment 17:\n",
      "Mean: -0.04415398896309284\n",
      "Variance: 0.46414053733775446\n",
      "Standard Deviation: 0.6812786047849694\n",
      "\n",
      "Statistics for Segment 18:\n",
      "Mean: 0.08243952393135753\n",
      "Variance: 0.5322352787965147\n",
      "Standard Deviation: 0.7295445694380259\n",
      "\n",
      "Statistics for Segment 19:\n",
      "Mean: 0.03597843953642631\n",
      "Variance: 0.45493619724499085\n",
      "Standard Deviation: 0.6744895827549828\n",
      "\n",
      "Statistics for Segment 20:\n",
      "Mean: -0.08600751531094467\n",
      "Variance: 0.5406794024086128\n",
      "Standard Deviation: 0.7353090523097161\n",
      "\n",
      "Statistics for Segment 21:\n",
      "Mean: 0.017756691027810714\n",
      "Variance: 1.1665960613394855\n",
      "Standard Deviation: 1.0800907653246024\n",
      "\n",
      "Statistics for Segment 22:\n",
      "Mean: 0.03977137518947907\n",
      "Variance: 1.0843530940873167\n",
      "Standard Deviation: 1.041322761725353\n",
      "\n",
      "Statistics for Segment 23:\n",
      "Mean: 0.042514141125448913\n",
      "Variance: 1.0696969852406177\n",
      "Standard Deviation: 1.0342615651954865\n",
      "\n",
      "Statistics for Segment 24:\n",
      "Mean: 0.024655933439008085\n",
      "Variance: 1.1475938962093897\n",
      "Standard Deviation: 1.0712580903822335\n",
      "\n",
      "Statistics for Segment 25:\n",
      "Mean: -0.005149739748714399\n",
      "Variance: 1.1853492030024293\n",
      "Standard Deviation: 1.0887374352902675\n",
      "\n",
      "Statistics for Segment 26:\n",
      "Mean: -0.032460016112765985\n",
      "Variance: 1.1186480800859837\n",
      "Standard Deviation: 1.0576616094413107\n",
      "\n",
      "Statistics for Segment 27:\n",
      "Mean: -0.04404122167778794\n",
      "Variance: 1.0611135237395453\n",
      "Standard Deviation: 1.0301036470858382\n",
      "\n",
      "Statistics for Segment 28:\n",
      "Mean: -0.034281479923524955\n",
      "Variance: 1.1107536093276422\n",
      "Standard Deviation: 1.0539229617612675\n",
      "\n",
      "Statistics for Segment 29:\n",
      "Mean: -0.007910045096177676\n",
      "Variance: 1.1830082123205057\n",
      "Standard Deviation: 1.087661809718676\n",
      "\n",
      "Statistics for Segment 30:\n",
      "Mean: 0.02229434098138009\n",
      "Variance: 1.1547941801703367\n",
      "Standard Deviation: 1.0746135026931016\n",
      "\n",
      "Statistics for Segment 31:\n",
      "Mean: 0.0037224328382737325\n",
      "Variance: 2.012548757557129\n",
      "Standard Deviation: 1.4186432805878753\n",
      "\n",
      "Statistics for Segment 32:\n",
      "Mean: 0.00882013694247008\n",
      "Variance: 2.0123842565222922\n",
      "Standard Deviation: 1.4185853011089224\n",
      "\n",
      "Statistics for Segment 33:\n",
      "Mean: -0.021275962956912746\n",
      "Variance: 2.0114197831581877\n",
      "Standard Deviation: 1.418245318398121\n",
      "\n",
      "Statistics for Segment 34:\n",
      "Mean: 0.033522545376771636\n",
      "Variance: 2.0096931855635387\n",
      "Standard Deviation: 1.4176364786374323\n",
      "\n",
      "Statistics for Segment 35:\n",
      "Mean: -0.04543944223041395\n",
      "Variance: 2.007272219301793\n",
      "Standard Deviation: 1.416782347187384\n",
      "\n",
      "Statistics for Segment 36:\n",
      "Mean: 0.056909453918509795\n",
      "Variance: 2.0042518885208027\n",
      "Standard Deviation: 1.4157160338573562\n",
      "\n",
      "Statistics for Segment 37:\n",
      "Mean: -0.06781977584178414\n",
      "Variance: 2.000750717776892\n",
      "Standard Deviation: 1.4144789562863394\n",
      "\n",
      "Statistics for Segment 38:\n",
      "Mean: 0.0780631078050863\n",
      "Variance: 1.9969061008653721\n",
      "Standard Deviation: 1.4131192804803747\n",
      "\n",
      "Statistics for Segment 39:\n",
      "Mean: -0.0875387092870663\n",
      "Variance: 1.9928689091797163\n",
      "Standard Deviation: 1.41169008963714\n",
      "\n",
      "Statistics for Segment 40:\n",
      "Mean: 0.09615339019715081\n",
      "Variance: 1.9887975711796122\n",
      "Standard Deviation: 1.410247343971834\n",
      "\n"
     ]
    }
   ],
   "source": [
    "for i in range(num_segments):\n",
    "    print(f\"Statistics for Segment {i + 1}:\")\n",
    "    print(f\"Mean: {segment_means[i]}\")\n",
    "    print(f\"Variance: {segment_variances[i]}\")\n",
    "    print(f\"Standard Deviation: {segment_std_devs[i]}\")\n",
    "    print()  # Add an empty line for separation\n"
   ]
  },
  {
   "cell_type": "code",
   "execution_count": null,
   "id": "6f8afaf2",
   "metadata": {},
   "outputs": [],
   "source": []
  }
 ],
 "metadata": {
  "kernelspec": {
   "display_name": "Python 3 (ipykernel)",
   "language": "python",
   "name": "python3"
  },
  "language_info": {
   "codemirror_mode": {
    "name": "ipython",
    "version": 3
   },
   "file_extension": ".py",
   "mimetype": "text/x-python",
   "name": "python",
   "nbconvert_exporter": "python",
   "pygments_lexer": "ipython3",
   "version": "3.9.13"
  }
 },
 "nbformat": 4,
 "nbformat_minor": 5
}
